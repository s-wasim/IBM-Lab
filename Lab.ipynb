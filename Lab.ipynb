{
 "cells": [
  {
   "cell_type": "markdown",
   "id": "2be99a7e",
   "metadata": {},
   "source": [
    "# My Jupyter Notebook on IBM Watson Studio"
   ]
  },
  {
   "cell_type": "markdown",
   "id": "5984408f",
   "metadata": {},
   "source": [
    "<b>Saad Waseem</b><br>\n",
    "<i>My desired occcupation is a Data Scientist</i>"
   ]
  },
  {
   "cell_type": "markdown",
   "id": "e23f2e7d",
   "metadata": {},
   "source": [
    "<i>I am interested in data science because it allows me to find new and hidden meaning in seemingly random numbers and text.\n",
    "Its something like magic, finding something so meaningful in something that looks like nothhing</i>"
   ]
  },
  {
   "cell_type": "markdown",
   "id": "6051bdfd",
   "metadata": {},
   "source": [
    "### The code below shows the fibonacci series using a recursive function. It is recommended to use values smaller than 40 as the greater depth of recursive calls makes computation slower"
   ]
  },
  {
   "cell_type": "code",
   "execution_count": 3,
   "id": "eb539308",
   "metadata": {},
   "outputs": [
    {
     "name": "stdout",
     "output_type": "stream",
     "text": [
      "0\n",
      "1\n",
      "1\n",
      "2\n",
      "3\n",
      "5\n",
      "8\n",
      "13\n",
      "21\n",
      "34\n"
     ]
    }
   ],
   "source": [
    "# n value is the nth value of the series starting with index 0\n",
    "def fib(n):\n",
    "    if n == 0: return 0\n",
    "    if n == 1: return 1\n",
    "    return fib(n - 1) + fib (n - 2)\n",
    "\n",
    "# Test cases\n",
    "for i in range(10):\n",
    "    print(fib(i))"
   ]
  },
  {
   "cell_type": "markdown",
   "id": "a1f3985c",
   "metadata": {},
   "source": [
    "The following list is of my favourite drinks in order of most favourite to least favourite\n",
    "<ol>\n",
    "    <li>Peach Iced Tea</li>\n",
    "    <li>Iced Coffee</li>\n",
    "    <li>Pepsi</li>\n",
    "</ol>\n",
    "\n",
    "<a href=https://www.linkedin.com/in/saad-waseem-aab48a210/>My LinkedIn Profile</a>\n",
    "\n",
    "The code I learned in any programming language was\n",
    "```\n",
    "print('Hello World!')\n",
    "```"
   ]
  }
 ],
 "metadata": {
  "kernelspec": {
   "display_name": "Python 3 (ipykernel)",
   "language": "python",
   "name": "python3"
  },
  "language_info": {
   "codemirror_mode": {
    "name": "ipython",
    "version": 3
   },
   "file_extension": ".py",
   "mimetype": "text/x-python",
   "name": "python",
   "nbconvert_exporter": "python",
   "pygments_lexer": "ipython3",
   "version": "3.10.9"
  }
 },
 "nbformat": 4,
 "nbformat_minor": 5
}

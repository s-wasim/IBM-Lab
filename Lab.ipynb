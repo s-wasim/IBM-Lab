{
 "cells": [
  {
   "cell_type": "markdown",
   "id": "2be99a7e",
   "metadata": {},
   "source": [
    "# My Jupyter Notebook on IBM Watson Studio"
   ]
  },
  {
   "cell_type": "markdown",
   "id": "5984408f",
   "metadata": {},
   "source": [
    "### Introduction\n",
    "The following notebook is a lab for the course <b>'Tools for Data Science.'</b><br>\n",
    "Each cell has a heading of what the following markdown cell is and each codeblock shows a simple code."
   ]
  },
  {
   "cell_type": "markdown",
   "id": "6bd68937",
   "metadata": {},
   "source": [
    "### Data Science Languages\n",
    "<ul>\n",
    "    <li>Python</li>\n",
    "    <li>R</li>\n",
    "    <li>SQL</li>\n",
    "    <li>Scala</li>\n",
    "    <li>Java</li>\n",
    "    <li>Javascript</li>\n",
    "    <li>Ruby</li>\n",
    "    <li>Go</li>\n",
    "    <li>Julia</li>\n",
    "    <li><i><b>Rarely</b></i>-C/C++</li>\n",
    "</ul>"
   ]
  },
  {
   "cell_type": "markdown",
   "id": "4fafa3c9",
   "metadata": {},
   "source": [
    "### Data Science Libraries\n",
    "<ul>\n",
    "    <li>SKlearn</li>\n",
    "    <li>scikit</li>\n",
    "    <li>Matplotlib</li>\n",
    "    <li>numpy</li>\n",
    "    <li>pandas</li>\n",
    "    <li>TensorFlow</li>\n",
    "</ul>"
   ]
  },
  {
   "cell_type": "markdown",
   "id": "0249956f",
   "metadata": {},
   "source": [
    "### Data Science Tools\n",
    "\n",
    "Open-source Tools\n",
    "<table>\n",
    "    <tr>\n",
    "        <th>Tool</th>\n",
    "        <th>Purpose</th>\n",
    "    </tr>\n",
    "    <tr>\n",
    "        <td>Jupyter Notebook</td>\n",
    "        <td>Create notebooks that are a combination of markdown and code</td>\n",
    "    </tr>\n",
    "    <tr>\n",
    "        <td>RStudio IDE</td>\n",
    "        <td>IDE for R code</td>\n",
    "    </tr>\n",
    "    <tr>\n",
    "        <td>Github</td>\n",
    "        <td>Share versions and work cooperatively on code</td>\n",
    "    </tr>\n",
    "</table>\n",
    "<br>\n",
    "Commercial Tools\n",
    "<table>\n",
    "    <tr>\n",
    "        <th>Tool</th>\n",
    "        <th>Purpose</th>\n",
    "    </tr>\n",
    "    <tr>\n",
    "        <td>IBM Watson Studio</td>\n",
    "        <td>All in one tool for DS</td>\n",
    "    </tr>\n",
    "    <tr>\n",
    "        <td>IBM Watson Knowledge Catalog</td>\n",
    "        <td>Collection of data and notebooks</td>\n",
    "    </tr>\n",
    "    <tr>\n",
    "        <td>Data Refinery</td>\n",
    "        <td>Data preperation and cleaning</td>\n",
    "    </tr>\n",
    "    <tr>\n",
    "        <td>SPSS Modeler Flows in Watson Studio</td>\n",
    "        <td>ML model for training and predicting</td>\n",
    "    </tr>\n",
    "    <tr>\n",
    "        <td>IBM SPSS Modeler</td>\n",
    "        <td>Stats modeler</td>\n",
    "    </tr>\n",
    "    <tr>\n",
    "        <td>SPSS Statistics</td>\n",
    "        <td>Tools for stat data</td>\n",
    "    </tr>\n",
    "    <tr>\n",
    "        <td>Auto AI</td>\n",
    "        <td>Automate DS procedures</td>\n",
    "    </tr>\n",
    "    <tr>\n",
    "        <td>OpenScale</td>\n",
    "        <td>Detect bias and correctness of a model and explain it</td>\n",
    "    </tr>\n",
    "</table>"
   ]
  },
  {
   "cell_type": "markdown",
   "id": "9ae77f4c",
   "metadata": {},
   "source": [
    "### Arithematic Explanation\n",
    "1 + 1 = 2 <br>\n",
    "(4 * (1 - 2 + 3)) / 2 = 8\n",
    "<br><br>\n",
    "makes use of BODMAS rules"
   ]
  },
  {
   "cell_type": "code",
   "execution_count": 2,
   "id": "ffae0ed2",
   "metadata": {},
   "outputs": [
    {
     "name": "stdout",
     "output_type": "stream",
     "text": [
      "MULTIPLICATION\n",
      "1 4 9 16 25 \n",
      "ADDITION\n",
      "6 7 8 9 10 \n"
     ]
    }
   ],
   "source": [
    "# Multiplication\n",
    "print('MULTIPLICATION')\n",
    "for i in range(1, 6):\n",
    "    print(i * i, end=' ')\n",
    "print()\n",
    "#ADDITION\n",
    "print('ADDITION')\n",
    "for i in range(1, 6):\n",
    "    print(i + 5, end=' ')\n",
    "print()"
   ]
  },
  {
   "cell_type": "code",
   "execution_count": 22,
   "id": "790a18f4",
   "metadata": {},
   "outputs": [
    {
     "name": "stdout",
     "output_type": "stream",
     "text": [
      "Input minutes: 89\n",
      "Hours + Minutes: 1 + 29\n",
      "Hours in decimal: 1.4833333333333334\n"
     ]
    }
   ],
   "source": [
    "#Conversion, minutes to hours\n",
    "minutes = int(input('Input minutes: '))\n",
    "o_hours = minutes / 60\n",
    "hours, d_hours= divmod(o_hours, 1)\n",
    "hours = int(hours)\n",
    "d_hours = round((d_hours * 60))\n",
    "\n",
    "print(f'Hours + Minutes: {hours} + {d_hours}')\n",
    "print(f'Hours in decimal: {o_hours}')"
   ]
  },
  {
   "cell_type": "markdown",
   "id": "9dbc6d6e",
   "metadata": {},
   "source": [
    "### Objectives\n",
    "The objectives of this lab are:\n",
    "<ul>\n",
    "    <li>Understand how to Create a Jupyter Notebook</li>\n",
    "    <li>Recall Key Concepts</li>\n",
    "    <li>Use Github and Create Repository</li>\n",
    "</ul>"
   ]
  },
  {
   "cell_type": "markdown",
   "id": "71507401",
   "metadata": {},
   "source": [
    "### My Introduction\n",
    "<b>Saad Waseem</b>"
   ]
  }
 ],
 "metadata": {
  "kernelspec": {
   "display_name": "Python 3 (ipykernel)",
   "language": "python",
   "name": "python3"
  },
  "language_info": {
   "codemirror_mode": {
    "name": "ipython",
    "version": 3
   },
   "file_extension": ".py",
   "mimetype": "text/x-python",
   "name": "python",
   "nbconvert_exporter": "python",
   "pygments_lexer": "ipython3",
   "version": "3.10.9"
  }
 },
 "nbformat": 4,
 "nbformat_minor": 5
}
